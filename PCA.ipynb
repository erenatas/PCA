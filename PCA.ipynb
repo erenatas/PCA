{
 "cells": [
  {
   "cell_type": "code",
   "execution_count": 8,
   "metadata": {},
   "outputs": [
    {
     "data": {
      "text/plain": [
       "[<matplotlib.lines.Line2D at 0x1a1d120908>]"
      ]
     },
     "execution_count": 8,
     "metadata": {},
     "output_type": "execute_result"
    },
    {
     "data": {
      "image/png": "[encoded data removed]",
      "text/plain": [
       "<Figure size 432x288 with 1 Axes>"
      ]
     },
     "metadata": {
      "needs_background": "light"
     },
     "output_type": "display_data"
    }
   ],
   "source": [
    "import pandas as pd\n",
    "import numpy as np\n",
    "from sklearn.preprocessing import StandardScaler \n",
    "from sklearn.model_selection import train_test_split\n",
    "from sklearn.decomposition import PCA\n",
    "import matplotlib.pyplot as plt\n",
    "from sklearn.neighbors import KNeighborsClassifier  \n",
    "from sklearn.metrics import classification_report, confusion_matrix  \n",
    "\n",
    "\n",
    "\n",
    "\n",
    "def read_data():\n",
    "    data = pd.read_csv(\"dataset.txt\", delimiter=',')\n",
    "    features = data.iloc[:, :57].values\n",
    "    target = data.iloc[:, 57:].values\n",
    "    # normalize the data\n",
    "    features = StandardScaler().fit_transform(features)\n",
    "    return features, target\n",
    "\n",
    "features, target = read_data()\n",
    "\n",
    "x_train, x_test, y_train, y_test = train_test_split(features, target, test_size=0.5)\n",
    "\n",
    "pca = PCA(n_components=57, svd_solver='full')\n",
    "pca.fit(x_train)\n",
    "variance = pca.explained_variance_ratio_ \n",
    "var=np.cumsum(np.round(pca.explained_variance_ratio_, decimals=3)*100)\n",
    "var\n",
    "\n",
    "plt.ylabel('% Variance Explained')\n",
    "plt.xlabel('# of Features')\n",
    "plt.title('PCA Analysis')\n",
    "plt.ylim(80,100.5)\n",
    "plt.xlim(50, 57)\n",
    "plt.style.context('seaborn-whitegrid')\n",
    "\n",
    "\n",
    "plt.plot(var) "
   ]
  },
  {
   "cell_type": "markdown",
   "metadata": {},
   "source": [
    "# PCA Analysis\n",
    "As you can see here in the PCA Analysis plot, it can be shown that 54 features will cover all of the variance."
   ]
  },
  {
   "cell_type": "code",
   "execution_count": 9,
   "metadata": {},
   "outputs": [
    {
     "name": "stdout",
     "output_type": "stream",
     "text": [
      "Case 1\n",
      "[[1290   95]\n",
      " [ 145  770]]\n",
      "             precision    recall  f1-score   support\n",
      "\n",
      "          0       0.90      0.93      0.91      1385\n",
      "          1       0.89      0.84      0.87       915\n",
      "\n",
      "avg / total       0.90      0.90      0.90      2300\n",
      "\n"
     ]
    },
    {
     "name": "stderr",
     "output_type": "stream",
     "text": [
      "/Users/erenatas/anaconda3/lib/python3.7/site-packages/ipykernel_launcher.py:3: DataConversionWarning: A column-vector y was passed when a 1d array was expected. Please change the shape of y to (n_samples, ), for example using ravel().\n",
      "  This is separate from the ipykernel package so we can avoid doing imports until\n"
     ]
    }
   ],
   "source": [
    "print(\"Case 1\")\n",
    "classifier = KNeighborsClassifier(n_jobs=-1,n_neighbors=5,weights='uniform')  \n",
    "classifier.fit(x_train, y_train) \n",
    "y_pred = classifier.predict(x_test)  \n",
    "print(confusion_matrix(y_test, y_pred))  \n",
    "print(classification_report(y_test, y_pred)) "
   ]
  },
  {
   "cell_type": "code",
   "execution_count": 10,
   "metadata": {},
   "outputs": [
    {
     "name": "stdout",
     "output_type": "stream",
     "text": [
      "Case 2\n"
     ]
    },
    {
     "name": "stderr",
     "output_type": "stream",
     "text": [
      "/Users/erenatas/anaconda3/lib/python3.7/site-packages/ipykernel_launcher.py:10: DataConversionWarning: A column-vector y was passed when a 1d array was expected. Please change the shape of y to (n_samples, ), for example using ravel().\n",
      "  # Remove the CWD from sys.path while we load stuff.\n"
     ]
    },
    {
     "name": "stdout",
     "output_type": "stream",
     "text": [
      "[[1062  313]\n",
      " [ 719  206]]\n",
      "             precision    recall  f1-score   support\n",
      "\n",
      "          0       0.60      0.77      0.67      1375\n",
      "          1       0.40      0.22      0.29       925\n",
      "\n",
      "avg / total       0.52      0.55      0.52      2300\n",
      "\n"
     ]
    }
   ],
   "source": [
    "# Feature extraction: Use PCA to reduce dimensionality to m, followed by k-NN. Try for different values of\n",
    "# m corresponding to proportion of variance of 0.80, 0.81, 0.82, ...., 0.99. Plot the data for m=2.\n",
    "print(\"Case 2\")\n",
    "x_train, x_test, y_train, y_test = train_test_split(features, target, test_size=0.5)\n",
    "\n",
    "pca = PCA(n_components=57).fit(x_train)\n",
    "X_reduce = pca.transform(x_train)\n",
    "\n",
    "classifier = KNeighborsClassifier(n_jobs=-1,n_neighbors=5,weights='uniform')  \n",
    "classifier.fit(X_reduce, y_train) \n",
    "\n",
    "preds = classifier.predict(x_test)\n",
    "print(confusion_matrix(y_test, preds))  \n",
    "print(classification_report(y_test, preds)) \n"
   ]
  }
 ],
 "metadata": {
  "kernelspec": {
   "display_name": "Python 3",
   "language": "python",
   "name": "python3"
  },
  "language_info": {
   "codemirror_mode": {
    "name": "ipython",
    "version": 3
   },
   "file_extension": ".py",
   "mimetype": "text/x-python",
   "name": "python",
   "nbconvert_exporter": "python",
   "pygments_lexer": "ipython3",
   "version": "3.7.0"
  }
 },
 "nbformat": 4,
 "nbformat_minor": 2
}
